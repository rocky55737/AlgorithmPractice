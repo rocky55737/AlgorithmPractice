{
  "nbformat": 4,
  "nbformat_minor": 0,
  "metadata": {
    "colab": {
      "name": "section7.ipynb",
      "provenance": [],
      "authorship_tag": "ABX9TyPlcOYFuCOhxLL/ZjhNJ1xt",
      "include_colab_link": true
    },
    "kernelspec": {
      "name": "python3",
      "display_name": "Python 3"
    },
    "language_info": {
      "name": "python"
    }
  },
  "cells": [
    {
      "cell_type": "markdown",
      "metadata": {
        "id": "view-in-github",
        "colab_type": "text"
      },
      "source": [
        "<a href=\"https://colab.research.google.com/github/rocky55737/AlgorithmPractice/blob/main/section7.ipynb\" target=\"_parent\"><img src=\"https://colab.research.google.com/assets/colab-badge.svg\" alt=\"Open In Colab\"/></a>"
      ]
    },
    {
      "cell_type": "markdown",
      "source": [
        "1"
      ],
      "metadata": {
        "id": "Rlr5S113zPW0"
      }
    },
    {
      "cell_type": "code",
      "execution_count": null,
      "metadata": {
        "id": "ifFl0JrVyz1s"
      },
      "outputs": [],
      "source": [
        "# 시간에 최대한 가능한지 체크\n",
        "# 더 이상 재귀가 불가능한지 체크\n",
        "# 풀었을 때 와 안풀었을 때로 재귀 -> dfs\n",
        "N, M = map(int, input().split())\n",
        "prob = []\n",
        "for _ in range(N):\n",
        "    prob.append(list(map(int, input().split())))\n",
        "level = 0\n",
        "time = 0\n",
        "point = 0\n",
        "points = []\n",
        "def dfs(l, t, p):\n",
        "    if t > M:\n",
        "        return\n",
        "    if l == N:\n",
        "        points.append(p)\n",
        "        return\n",
        "    dfs(l + 1, t, p)\n",
        "    p += prob[l][0]\n",
        "    t += prob[l][1]\n",
        "    dfs(l + 1, t, p)\n",
        "dfs(level, time, point)\n",
        "\n",
        "print(max(points))"
      ]
    },
    {
      "cell_type": "markdown",
      "source": [
        "2"
      ],
      "metadata": {
        "id": "4zdYdHKdzIlc"
      }
    },
    {
      "cell_type": "code",
      "source": [
        "# 더 이상 재귀가 불가능한지 체크\n",
        "# 불가능하다면 sum값 max값 비교 후 저장\n",
        "# 상담을 했을 때와 안했을 때로 나누어 재귀->dfs\n",
        "N = int(input())\n",
        "data = []\n",
        "for _ in range(N):\n",
        "    data.append(list(map(int, input().split())))\n",
        "for _ in range(7):\n",
        "    data.append([0, 0])\n",
        "sumlist = []\n",
        "def dfs(d, s):\n",
        "    if d[0][0] == 0:\n",
        "        sumlist.append(s)\n",
        "        return\n",
        "    dfs(d[1:], s)\n",
        "    s += d[0][1]\n",
        "    dfs(d[d[0][0]:], s)\n",
        "dfs(data, 0)\n",
        "\n",
        "print(max(sumlist))"
      ],
      "metadata": {
        "id": "8EJ9gW3Y4q2E"
      },
      "execution_count": null,
      "outputs": []
    },
    {
      "cell_type": "markdown",
      "source": [
        "3"
      ],
      "metadata": {
        "id": "KfJGn7V_5FFo"
      }
    },
    {
      "cell_type": "code",
      "source": [
        "# 데이터를 입력받으면 각각의 -값도 저장한 리스트 생성\n",
        "\n",
        "# 깊이 최대는 위 데이터 배열의 총길이\n",
        "# 더 이상 재귀가 불가능하다면\n",
        "#   abs(sum) 값 append\n",
        "# 데이터 안의 해당 깊이의 값을 더했을 때 안더했을 때 재귀\n",
        "\n",
        "# sumset = set(sumlist) <- 중복제거\n",
        "# sumlist = list(sumset)\n",
        "# print(len(sumlist) - 1) <- 0이 포함되어있으므로\n",
        "K = int(input())\n",
        "choo = list(map(int, input().split()))\n",
        "bigs = sum(choo)\n",
        "for i in range(K):\n",
        "    choo.append(-choo[i])\n",
        "\n",
        "cases = []\n",
        "def dfs(l, s):\n",
        "    if l == 2 * K:\n",
        "        cases.append(abs(s))\n",
        "        return\n",
        "    dfs(l + 1, s)\n",
        "    s += choo[l]\n",
        "    dfs(l + 1, s)\n",
        "dfs(0, 0)\n",
        "setcases = set(cases)\n",
        "cases = list(setcases)\n",
        "\n",
        "print(bigs - (len(cases) - 1))"
      ],
      "metadata": {
        "id": "a4_kHXUk5F8F"
      },
      "execution_count": null,
      "outputs": []
    },
    {
      "cell_type": "markdown",
      "source": [
        "4 몰겠당"
      ],
      "metadata": {
        "id": "qr5XzPAD7gA5"
      }
    },
    {
      "cell_type": "code",
      "source": [
        "# 깊이는 동전의 종류\n",
        "# if sum == 거슬러 줘야하는 돈:\n",
        "#   cnt.append(0)\n",
        "#   return\n",
        "# 0개부터 동전 최대 개수까지 전부 재귀\n",
        "T = int(input())\n",
        "k = int(input())\n",
        "coins = []\n",
        "for _ in range(k):\n",
        "    coins.append(list(map(int, input().split())))\n",
        "\n",
        "cnt = []\n",
        "def dfs(l, s):\n",
        "    if l == k:\n",
        "        if s == T:\n",
        "            cnt.append(0)\n",
        "        return\n",
        "    for i in range(coins[l][1]):\n",
        "        dfs(l + 1, s)\n",
        "        s += coins[l][0]\n",
        "    dfs(l + 1, s)\n",
        "\n",
        "dfs(0, 0)\n",
        "print(len(cnt))"
      ],
      "metadata": {
        "id": "GqVD-3as7nGB"
      },
      "execution_count": null,
      "outputs": []
    },
    {
      "cell_type": "markdown",
      "source": [
        "5"
      ],
      "metadata": {
        "id": "FmpBayR8BwQJ"
      }
    },
    {
      "cell_type": "code",
      "source": [
        "# 동전 순서쌍으로 만들어서 0으로 초기화\n",
        "# 1이면 첫번째사람 2이면 두번째 사람 나머지는 세번째사람\n",
        "\n",
        "# 깊이는 동전 개수 만큼\n",
        "# 더 재귀가 불가능하면\n",
        "# sum 1인것들 2인것들 0인것들 중 최대 최소 값 차이 append\n",
        "# 현재 깊이의 동전을 1에 2에 안넣고 재귀\n",
        "\n",
        "# list min 출력\n",
        "N = int(input())\n",
        "coins = []\n",
        "for _ in range(N):\n",
        "    coins.append([0, int(input())])\n",
        "\n",
        "res = []\n",
        "def dfs(l):\n",
        "    if l == N:\n",
        "      # 반복문 쓸껄\n",
        "        filt = list(filter(lambda x: x[0] == 1, coins))\n",
        "        filt = [i[1] for i in filt]\n",
        "        s1 = sum(filt)\n",
        "        filt = list(filter(lambda x: x[0] == 2, coins))\n",
        "        filt = [i[1] for i in filt]\n",
        "        s2 = sum(filt)\n",
        "        filt = list(filter(lambda x: x[0] == 0, coins))\n",
        "        filt = [i[1] for i in filt]\n",
        "        s3 = sum(filt)\n",
        "        if s1 != s2 and s2 != s3 and s3 != s1:\n",
        "          res.append(max(s1, s2, s3) - min(s1, s2, s3))\n",
        "        return \n",
        "    coins[l][0] = 0\n",
        "    dfs(l + 1)\n",
        "    coins[l][0] = 1\n",
        "    dfs(l + 1)\n",
        "    coins[l][0] = 2\n",
        "    dfs(l + 1)\n",
        "\n",
        "dfs(0)\n",
        "print(min(res))\n",
        "# 답이 틀림\n",
        "# 31(8 11 12) 32(9 23) 32(15 17) -> 1"
      ],
      "metadata": {
        "colab": {
          "base_uri": "https://localhost:8080/"
        },
        "id": "qJEDGHTjBxA0",
        "outputId": "6ef9a6db-72bf-44dc-aff8-2e233cadb00d"
      },
      "execution_count": null,
      "outputs": [
        {
          "output_type": "stream",
          "name": "stdout",
          "text": [
            "7\n",
            "8\n",
            "9\n",
            "11\n",
            "12\n",
            "23\n",
            "15\n",
            "17\n",
            "5\n"
          ]
        }
      ]
    },
    {
      "cell_type": "markdown",
      "source": [
        "6"
      ],
      "metadata": {
        "id": "oSzhtmxQIH7K"
      }
    },
    {
      "cell_type": "code",
      "source": [
        "# 깊이는 숫자열만큼\n",
        "# 더 재귀가 불가능하면\n",
        "#   카운트 append\n",
        "#   print(\"\".join(output))\n",
        "# 숫자 하나만 문자로 바꿔서 append(output) 후 재귀\n",
        "# 숫자 두개 값이 26보다 작거나 같으면\n",
        "#   두개 문자로 바꿔서 append(output) 후 재귀\n",
        "a_minus1 = 96\n",
        "crip = input()\n",
        "\n",
        "output = []\n",
        "outputlist = []\n",
        "def dfs(c):\n",
        "    if not c:\n",
        "        outputlist.append(\"\".join(output))\n",
        "        return\n",
        "    output.append(chr(a_minus1 + int(c[0])))\n",
        "    dfs(c[1:])\n",
        "    output.pop()\n",
        "    if int(c[:2]) <= 26:\n",
        "        output.append(chr(a_minus1 + int(c[:2])))\n",
        "        dfs(c[2:])\n",
        "        output.pop()\n",
        "dfs(crip)\n",
        "opl = []\n",
        "for v in outputlist:\n",
        "    if v not in opl:\n",
        "        opl.append(v)\n",
        "        print(v)\n",
        "print(len(opl))"
      ],
      "metadata": {
        "id": "xagraTfOIJOa"
      },
      "execution_count": null,
      "outputs": []
    },
    {
      "cell_type": "markdown",
      "source": [
        "7 몰겠다"
      ],
      "metadata": {
        "id": "5Kj9mbWqKM3I"
      }
    },
    {
      "cell_type": "code",
      "source": [
        "# first try\n",
        "# 시작은 현수 위치부터 깊이는 송아지 위치와 같아질만큼\n",
        "# 같으면 정답 print() 후 exit()\n",
        "# 만약 현수의 위치가 작다면\n",
        "# 먼저 5를 더해서 재귀\n",
        "# 1을 더해서 재귀\n",
        "# 만약 \n",
        "\n",
        "# second try\n",
        "# 현재 위치에서 앞으로 1 뒤로 1 앞으로 5 분기하면서 카운트해서 \n",
        "# 도착하면 카운트 프린트\n",
        "# 단 이전 분기에서 있었던 위치로의 다음 분기는 허용되지 않음"
      ],
      "metadata": {
        "id": "O7cr4QZ0Lx5Y"
      },
      "execution_count": null,
      "outputs": []
    },
    {
      "cell_type": "markdown",
      "source": [
        "8 풀었던 문제와의 차이를 모르겠다"
      ],
      "metadata": {
        "id": "wSQaketKLxXr"
      }
    },
    {
      "cell_type": "code",
      "source": [
        ""
      ],
      "metadata": {
        "id": "bUsWQ_00a_Hu"
      },
      "execution_count": null,
      "outputs": []
    },
    {
      "cell_type": "markdown",
      "source": [
        "9"
      ],
      "metadata": {
        "id": "xO1wLrVea_hu"
      }
    },
    {
      "cell_type": "code",
      "source": [
        "# 하나씩 돌아가면서 1넣고 깊이 카운트해서 도착이면 카운트 프린트"
      ],
      "metadata": {
        "id": "cyRoTkcCbAY-"
      },
      "execution_count": null,
      "outputs": []
    },
    {
      "cell_type": "markdown",
      "source": [
        "10"
      ],
      "metadata": {
        "id": "dj3cF_oLbAxO"
      }
    },
    {
      "cell_type": "code",
      "source": [
        "# 시작은 0, 0에서 깊이는 좌표가 N - 1, N - 1 일때까지\n",
        "#   cnt.append(0)\n",
        "# maze(현재 좌표) = 1\n",
        "# maze(현재 좌표)를 기준으로 왼 밑 오 위 중 0인것 재귀\n",
        "# else return\n",
        "maze = []\n",
        "for _ in range(7):\n",
        "    maze.append(list(map(int, input().split())))\n",
        "\n",
        "cnt = []\n",
        "def dfs(p):\n",
        "    if p == (6, 6):\n",
        "        cnt.append(0)\n",
        "        return\n",
        "    maze[p[0]][p[1]] = 1\n",
        "    if p[0] != 0:\n",
        "        if maze[p[0] - 1][p[1]] == 0:\n",
        "            dfs((p[0] - 1, p[1]))\n",
        "    if p[0] != 6:\n",
        "        if maze[p[0] + 1][p[1]] == 0:\n",
        "            dfs((p[0] + 1, p[1]))\n",
        "    if p[1] != 0:\n",
        "        if maze[p[0]][p[1] - 1] == 0:\n",
        "            dfs((p[0], p[1] - 1))\n",
        "    if p[1] != 6:\n",
        "        if maze[p[0]][p[1] + 1] == 0:\n",
        "            dfs((p[0], p[1] + 1))\n",
        "    maze[p[0]][p[1]] = 0\n",
        "\n",
        "dfs((0,0))\n",
        "print(len(cnt))"
      ],
      "metadata": {
        "id": "2Xh79j7Bbdye"
      },
      "execution_count": null,
      "outputs": []
    },
    {
      "cell_type": "markdown",
      "source": [
        "11"
      ],
      "metadata": {
        "id": "j0ZpSK7vLeBr"
      }
    },
    {
      "cell_type": "code",
      "source": [
        "# top 좌표 start 좌표 구하기\n",
        "\n",
        "# start부터 움직일 수 없을 때 까지\n",
        "#   만약 현재 좌표값이 top이라면\n",
        "#     global cnt += 1\n",
        "# 왼쪽 오른쪽 위 아래 검사해서 재귀\n",
        "# 끝자리가 아니면\n",
        "#   현재 값보다 작을 때\n",
        "#     재귀\n",
        "# print(cnt)\n",
        "import sys\n",
        "N = int(input())\n",
        "mtmap = []\n",
        "for _ in range(N):\n",
        "  mtmap.append(list(map(int, input().split())))\n",
        "\n",
        "top = [0, 0]\n",
        "start = [0, 0]\n",
        "for i in range(N):\n",
        "    for j in range(N):\n",
        "        top = [i, j] if mtmap[i][j] > mtmap[top[0]][top[1]] else top\n",
        "        start = [i, j] if mtmap[i][j] < mtmap[start[0]][start[1]] else start\n",
        "\n",
        "Cnt = 0\n",
        "def dfs(ind):\n",
        "    global Cnt\n",
        "    if ind == top:\n",
        "        Cnt += 1\n",
        "        return\n",
        "    if ind[0] != 0:\n",
        "        if mtmap[ind[0] - 1][ind[1]] > mtmap[ind[0]][ind[1]]:\n",
        "            dfs([ind[0] - 1, ind[1]])\n",
        "    if ind[0] != N - 1:\n",
        "        if mtmap[ind[0] + 1][ind[1]] > mtmap[ind[0]][ind[1]]:\n",
        "            dfs([ind[0] + 1, ind[1]])\n",
        "    if ind[1] != 0:\n",
        "        if mtmap[ind[0] - 1][ind[1] - 1] > mtmap[ind[0]][ind[1]]:\n",
        "            dfs([ind[0] - 1, ind[1] - 1])\n",
        "    if ind[1] != N - 1:\n",
        "        if mtmap[ind[0]][ind[1] + 1] > mtmap[ind[0]][ind[1]]:\n",
        "            dfs([ind[0], ind[1] + 1])\n",
        "dfs(start)\n",
        "print(Cnt)"
      ],
      "metadata": {
        "id": "6W3aMQytLePz"
      },
      "execution_count": null,
      "outputs": []
    },
    {
      "cell_type": "markdown",
      "source": [
        "12"
      ],
      "metadata": {
        "id": "uTwB5SeMLgJb"
      }
    },
    {
      "cell_type": "code",
      "source": [
        "# 맨 처음에 bfs로 총 단지수를 찾고\n",
        "# dfs로 각 단지마다 집의 수를 세야하나?\n",
        "\n",
        "# 그냥 하나씩 돌아가다가\n",
        "# 1을 만나면 \n",
        "#   카운트 증가\n",
        "# dfs를 돌면서 2로 바꾸고 바꾼 횟수 반환\n",
        "N = int(input())\n",
        "town = []\n",
        "for _ in range(N):\n",
        "    town.append(list(map(int, list(input()))))\n",
        "\n",
        "def dfs(ind):\n",
        "    town[ind[0]][ind[1]] = 2\n",
        "    if ind[0] != 0 and town[ind[0] - 1][ind[1]] == 1:\n",
        "        dfs([ind[0] - 1, ind[1]])\n",
        "    if ind[0] != N - 1 and town[ind[0] + 1][ind[1]] == 1:\n",
        "        dfs([ind[0] + 1, ind[1]])\n",
        "    if ind[1] != 0 and town[ind[0]][ind[1] - 1] == 1:\n",
        "        dfs([ind[0], ind[1] - 1])\n",
        "    if ind[1] != N - 1 and town[ind[0]][ind[1] + 1] == 1:\n",
        "        dfs([ind[0], ind[1] + 1])\n",
        "\n",
        "cnt = 0\n",
        "for i in range(N):\n",
        "    for j in range(N):\n",
        "        if town[i][j] == 1:\n",
        "            dfs([i, j])\n",
        "            cnt += 1\n",
        "print(cnt)"
      ],
      "metadata": {
        "id": "3TVNNc7RLgrs"
      },
      "execution_count": null,
      "outputs": []
    },
    {
      "cell_type": "markdown",
      "source": [
        "13"
      ],
      "metadata": {
        "id": "37ZbjEEQLg5T"
      }
    },
    {
      "cell_type": "code",
      "source": [
        "# 위의 문제와 동일?\n",
        "\n",
        "\n",
        "# bfs면 가운데에서 시작해서\n",
        "\n",
        "# 플래그가 0이면\n",
        "# 위 아래 왼 오른 확인하고\n",
        "# 1이면 플래그 키고 카운트 1증가\n",
        "# 위 아래 왼 오른 전부 재귀\n",
        "#\n",
        "# 플래그가 1이면 카운트 증가\n",
        "# 위 아랜 왼 오른 확인하고\n",
        "# 1이면\n",
        "#   좌표값이 이전에 없었을 때 \n",
        "#     좌표값 append 후 분기\n",
        "#   있었으면 카운트 1 빼고\n",
        "# 어렵다...\n",
        "N = int(input())\n",
        "town = []\n",
        "for _ in range(N):\n",
        "    town.append(list(map(int, input().split())))\n",
        "\n",
        "def dfs(ind):\n",
        "    town[ind[0]][ind[1]] = 2\n",
        "    if ind[0] != 0 and town[ind[0] - 1][ind[1]] == 1:\n",
        "        dfs([ind[0] - 1, ind[1]])\n",
        "    if ind[0] != N - 1 and town[ind[0] + 1][ind[1]] == 1:\n",
        "        dfs([ind[0] + 1, ind[1]])\n",
        "    if ind[1] != 0 and town[ind[0]][ind[1] - 1] == 1:\n",
        "        dfs([ind[0], ind[1] - 1])\n",
        "    if ind[1] != N - 1 and town[ind[0]][ind[1] + 1] == 1:\n",
        "        dfs([ind[0], ind[1] + 1])\n",
        "\n",
        "    if ind[0] != 0:\n",
        "        if ind[1] != 0:\n",
        "            if town[ind[0] - 1][ind[1] - 1] == 1:\n",
        "                dfs([ind[0] - 1, ind[1] - 1])\n",
        "        if ind[1] != N - 1:\n",
        "            if town[ind[0] - 1][ind[1] + 1] == 1:\n",
        "                dfs([ind[0] - 1, ind[1] + 1])\n",
        "    if ind[0] != N - 1:\n",
        "        if ind[1] != 0:\n",
        "            if town[ind[0] + 1][ind[1] - 1] == 1:\n",
        "                dfs([ind[0] + 1, ind[1] - 1])\n",
        "        if ind[1] != N - 1:\n",
        "            if town[ind[0] + 1][ind[1] + 1] == 1:\n",
        "                dfs([ind[0] + 1, ind[1] + 1])\n",
        "cnt = 0\n",
        "for i in range(N):\n",
        "    for j in range(N):\n",
        "        if town[i][j] == 1:\n",
        "            dfs([i, j])\n",
        "            cnt += 1\n",
        "print(cnt)"
      ],
      "metadata": {
        "id": "TkPLKU41Lhcz"
      },
      "execution_count": null,
      "outputs": []
    },
    {
      "cell_type": "markdown",
      "source": [
        "14 안전영역 틀림"
      ],
      "metadata": {
        "id": "NtIBD-6ZLhu7"
      }
    },
    {
      "cell_type": "code",
      "source": [
        "N = int(input())\n",
        "town = []\n",
        "gat = []\n",
        "for _ in range(N):\n",
        "    town.append(list(map(int, input().split())))\n",
        "\n",
        "def dfs(ind):\n",
        "    town[ind[0]][ind[1]] -= 1\n",
        "    gat.append(ind)\n",
        "    if ind[0] != 0 and town[ind[0] - 1][ind[1]] > 0:\n",
        "        if [ind[0] - 1, ind[1]] not in gat:\n",
        "            dfs([ind[0] - 1, ind[1]])\n",
        "    if ind[0] != N - 1 and town[ind[0] + 1][ind[1]] > 0:\n",
        "        if [ind[0] + 1, ind[1]] not in gat:\n",
        "            dfs([ind[0] + 1, ind[1]])\n",
        "    if ind[1] != 0 and town[ind[0]][ind[1] - 1] > 0:\n",
        "        if [ind[0], ind[1] - 1] not in gat:\n",
        "            dfs([ind[0], ind[1] - 1])\n",
        "    if ind[1] != N - 1 and town[ind[0]][ind[1] + 1] > 0:\n",
        "        if [ind[0], ind[1] + 1] not in gat:\n",
        "            dfs([ind[0], ind[1] + 1])\n",
        "Maxcnt = 0\n",
        "cnt = 0\n",
        "s = 1\n",
        "while s != 0:\n",
        "    s = 0\n",
        "    for i in range(N):\n",
        "        s += sum(town[i])\n",
        "    cnt = 0\n",
        "    for i in range(N):\n",
        "        for j in range(N):\n",
        "            if town[i][j] > 0: # 조건 설정 잘못됨\n",
        "                dfs([i, j])\n",
        "                cnt += 1\n",
        "    gat.clear()\n",
        "    if Maxcnt < cnt:\n",
        "        Maxcnt = cnt\n",
        "    print(Maxcnt, s)\n",
        "print(Maxcnt)"
      ],
      "metadata": {
        "id": "RA3qfbuALiND"
      },
      "execution_count": null,
      "outputs": []
    },
    {
      "cell_type": "markdown",
      "source": [
        "15 토마토"
      ],
      "metadata": {
        "id": "Dh-SlI-FLitD"
      }
    },
    {
      "cell_type": "code",
      "source": [
        ""
      ],
      "metadata": {
        "id": "lwF1vtMpLj_M"
      },
      "execution_count": null,
      "outputs": []
    },
    {
      "cell_type": "markdown",
      "source": [
        "16 사다리타기"
      ],
      "metadata": {
        "id": "grM6JiYwLkMc"
      }
    },
    {
      "cell_type": "code",
      "source": [
        "# 1이면 스타트 값 저장 후 재귀 시작\n",
        "# 끝이면\n",
        "#  리턴\n",
        "# 2이면 스타트 값 출력 후 exit\n",
        "# 양옆 1이면\n",
        "#   옆으로 재귀\n",
        "# elif 밑이 1이면\n",
        "#   밑으로 재귀\n",
        "ladder = []\n",
        "for _ in range(10):\n",
        "    ladder.append(list(map(int, input().split())))\n",
        "\n",
        "Start = -1\n",
        "def dfs(ind, flag):\n",
        "    global Start\n",
        "    if ladder[ind[0]][ind[1]] == 2:\n",
        "        print(Start)\n",
        "        exit()\n",
        "    if ind[0] == 9 or ladder[ind[0]][ind[1]] != 1:\n",
        "        return\n",
        "    if ind[1] == 0:\n",
        "        if flag == 0 and ladder[ind[0]][ind[1] + 1] == 1:\n",
        "            dfs([ind[0], ind[1] + 1], 1)\n",
        "            return\n",
        "        else:\n",
        "            dfs([ind[0] + 1, ind[1]], 0)\n",
        "            return\n",
        "    elif ind[1] == 9:\n",
        "        if flag == 0 and ladder[ind[0]][ind[1] - 1] == 1:\n",
        "            dfs([ind[0], ind[1] - 1], -1)\n",
        "            return\n",
        "        else:\n",
        "            dfs([ind[0] + 1, ind[1]], 0)\n",
        "            return\n",
        "    else:\n",
        "        if flag == 1:\n",
        "            if ladder[ind[0]][ind[1] + 1] == 1:\n",
        "                dfs([ind[0], ind[1] + 1], 1)\n",
        "                return\n",
        "            else:\n",
        "                dfs([ind[0] + 1, ind[1]], 0)\n",
        "                return\n",
        "        elif flag == -1:\n",
        "            if ladder[ind[0]][ind[1] - 1] == 1:\n",
        "                dfs([ind[0], ind[1] - 1], -1)\n",
        "                return\n",
        "            else:\n",
        "                dfs([ind[0] + 1, ind[1]], 0)\n",
        "                return\n",
        "        if ladder[ind[0]][ind[1] + 1] == 1:\n",
        "            dfs([ind[0], ind[1] + 1], 1)\n",
        "            return\n",
        "        elif ladder[ind[0]][ind[1] - 1] == 1:\n",
        "            dfs([ind[0], ind[1] - 1], -1)\n",
        "            return\n",
        "        else:\n",
        "            dfs([ind[0] + 1, ind[1]], 0)\n",
        "            return\n",
        "\n",
        "\n",
        "for i in range(10):\n",
        "    if ladder[0][i] == 1:\n",
        "        Start = i\n",
        "        dfs([0, i], 0)"
      ],
      "metadata": {
        "id": "ukN3JGYrLkzU"
      },
      "execution_count": null,
      "outputs": []
    },
    {
      "cell_type": "markdown",
      "source": [
        "17 피자 배달 거리\n",
        "어렵다.."
      ],
      "metadata": {
        "id": "Ru9zsi7yLlMU"
      }
    },
    {
      "cell_type": "code",
      "source": [
        "# 총길이 배열 생성\n",
        "# 피자배달거리 변수\n",
        "# 첫 번째 좌표부터 마지막까지 반복\n",
        "#   깊이는 피자집 카운트 4개일 때 까지 dfs\n",
        "#   4이면\n",
        "#     총 피자 배달 거리가 변수 값보다 작으면\n",
        "#       최소 배달 거리 갱신\n",
        "#     피자 배달 거리 구하기\n",
        "#   만약 현재 4개가 다 안찼는데 마지막 좌표일 경우\n",
        "#     리턴\n",
        "#   0이면 배열 초기화\n",
        "# \n",
        "#   다음 좌표로 재귀\n",
        "#   만약 현재좌표의 값이 2일 경우\n",
        "#     피자집 카운트 + 1\n",
        "#     모든 집들과의 거리를 구함\n",
        "#     위 배열에 값이 0이거나 구한 값이 더 작으면\n",
        "#       그 집의 위치에 저장\n",
        "#   다음 좌표로 재귀\n",
        "#   피자집 카운트 - 1\n",
        "N, M = map(int, input().split())\n",
        "city = []\n",
        "house = []\n",
        "pizza = []\n",
        "for i in range(N):\n",
        "    city.append(list(map(int, input().split())))\n",
        "    for j in range(N):\n",
        "        if city[i][j] == 1:\n",
        "          house.append([i, j])\n",
        "        elif city[i][j] == 2:\n",
        "            pizza.append([i, j])\n",
        "\n",
        "dist = []\n",
        "p = []\n",
        "def dfs(l):\n",
        "    if len(p) == 4:\n",
        "        s = 0\n",
        "        for i in range(len(house)):\n",
        "            d = 100\n",
        "            for j in range(len(p)):\n",
        "                d = min(d, abs(house[i][0] - p[j][0]) + abs(house[i][1] - p[j][1]))\n",
        "            s += d\n",
        "        dist.append(s)\n",
        "        return\n",
        "    if l == len(pizza):\n",
        "        return\n",
        "    p.append(pizza[l])\n",
        "    dfs(l + 1)\n",
        "    p.pop()\n",
        "    dfs(l + 1)\n",
        "\n",
        "dfs(0)\n",
        "\n",
        "print(min(dist))"
      ],
      "metadata": {
        "id": "kveyYyRyjulW"
      },
      "execution_count": null,
      "outputs": []
    }
  ]
}