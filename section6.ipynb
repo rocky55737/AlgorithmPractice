{
  "nbformat": 4,
  "nbformat_minor": 0,
  "metadata": {
    "colab": {
      "name": "section6.ipynb",
      "provenance": [],
      "collapsed_sections": [],
      "authorship_tag": "ABX9TyPCokvIsQGf8Vlm5yOMAAcP",
      "include_colab_link": true
    },
    "kernelspec": {
      "name": "python3",
      "display_name": "Python 3"
    },
    "language_info": {
      "name": "python"
    }
  },
  "cells": [
    {
      "cell_type": "markdown",
      "metadata": {
        "id": "view-in-github",
        "colab_type": "text"
      },
      "source": [
        "<a href=\"https://colab.research.google.com/github/rocky55737/AlgorithmPractice/blob/main/section6.ipynb\" target=\"_parent\"><img src=\"https://colab.research.google.com/assets/colab-badge.svg\" alt=\"Open In Colab\"/></a>"
      ]
    },
    {
      "cell_type": "markdown",
      "source": [
        "1"
      ],
      "metadata": {
        "id": "MOK3cG2TewuH"
      }
    },
    {
      "cell_type": "code",
      "execution_count": null,
      "metadata": {
        "id": "M5Q5OPTJeu_A"
      },
      "outputs": [],
      "source": [
        "bit = []\n",
        "\n",
        "def recurs(x):\n",
        "    if x == 0:\n",
        "        return\n",
        "    recurs(x//2)\n",
        "    bit.append(str(x % 2))\n",
        "\n",
        "N = int(input())\n",
        "recurs(N)\n",
        "print(''.join(bit))"
      ]
    },
    {
      "cell_type": "markdown",
      "source": [
        "2"
      ],
      "metadata": {
        "id": "tTtEm79ne0Er"
      }
    },
    {
      "cell_type": "code",
      "source": [
        "def preorder(root):\n",
        "    if root != 0:\n",
        "        yield root.value\n",
        "        preorder(root.left)\n",
        "        preorder(root.right)\n",
        "\n",
        "        # postorder(root.left)\n",
        "        # postorder(root.right)\n",
        "        # yield root.value\n",
        "\n",
        "        # inorder(root.left)\n",
        "        # yield root.value\n",
        "        # inorder(root.right)"
      ],
      "metadata": {
        "id": "Qfie8PLjfeJb"
      },
      "execution_count": null,
      "outputs": []
    },
    {
      "cell_type": "markdown",
      "source": [
        "3"
      ],
      "metadata": {
        "id": "uMK3mwialVPJ"
      }
    },
    {
      "cell_type": "code",
      "source": [
        "N = int(input())\n",
        "\n",
        "setO = [[0, i] for i in range(1, N+1)]\n",
        "\n",
        "def dfs(set, c):\n",
        "    if c == N:\n",
        "        temp = list(filter(lambda x: x[0] == 1, set))\n",
        "        if temp:\n",
        "         print(*temp)\n",
        "        return\n",
        "    set[c][0] = 1\n",
        "    dfs(set, int(c + 1))\n",
        "    set[c][0] = 0\n",
        "    dfs(set, int(c + 1))\n",
        "dfs(setO, int(0))"
      ],
      "metadata": {
        "id": "F_Ou1nymlV6h"
      },
      "execution_count": null,
      "outputs": []
    },
    {
      "cell_type": "markdown",
      "source": [
        "4"
      ],
      "metadata": {
        "id": "ojMp7FyDpEOv"
      }
    },
    {
      "cell_type": "code",
      "source": [
        "N = int(input())\n",
        "setO = list(map(int, input().split()))\n",
        "setO = [[0, i] for i in setO]\n",
        "setSum = []\n",
        "\n",
        "def dfs(set, c):\n",
        "    if c == N:\n",
        "        temp = list(filter(lambda x: x[0] == 1, set))\n",
        "        sum = 0\n",
        "        for i in temp:\n",
        "            sum += i[1]\n",
        "        setSum.append(sum)\n",
        "        return\n",
        "    set[c][0] = 1\n",
        "    dfs(set, int(c + 1))\n",
        "    set[c][0] = 0\n",
        "    dfs(set, int(c + 1))\n",
        "dfs(setO, int(0))\n",
        "\n",
        "def redundancy():\n",
        "    for i in range(len(setSum) - 1):\n",
        "        for j in setSum[i + 1 :]:\n",
        "            if setSum[i] == j:\n",
        "                return True\n",
        "    return False\n",
        "# <another way for redundancy check>\n",
        "# while setSum:\n",
        "#   i = setSum.pop(0)\n",
        "#   if i in setSum:\n",
        "#       return True\n",
        "# return False\n",
        "\n",
        "print(setSum)\n",
        "\n",
        "if redundancy():\n",
        "    print(\"Yes\")\n",
        "else:\n",
        "    print(\"No\")"
      ],
      "metadata": {
        "id": "mb9daLh35rRP"
      },
      "execution_count": null,
      "outputs": []
    },
    {
      "cell_type": "markdown",
      "source": [
        "5"
      ],
      "metadata": {
        "id": "f861vty75qdP"
      }
    },
    {
      "cell_type": "code",
      "source": [
        "C, N = map(int, input().split())\n",
        "data = []\n",
        "for _ in range(N):\n",
        "    data.append(int(input()))\n",
        "sum = 0\n",
        "sumList = []\n",
        "def dfs(set, dsum):\n",
        "    if dsum + set[0] > C:\n",
        "        sumList.append(dsum)\n",
        "        return\n",
        "    if len(set) == 1:\n",
        "        sumList.append(dsum + set[0])\n",
        "        return\n",
        "    dsum += set[0]\n",
        "    for i in range(len(set) - 1):\n",
        "        dfs(set[i + 1:], dsum)\n",
        "dfs(data, sum)\n",
        "print(max(sumList))"
      ],
      "metadata": {
        "id": "I3PRrITrpE9e"
      },
      "execution_count": null,
      "outputs": []
    },
    {
      "cell_type": "markdown",
      "source": [
        "6"
      ],
      "metadata": {
        "id": "7NI1vc1hCZIF"
      }
    },
    {
      "cell_type": "code",
      "source": [
        "N, M = map(int, input().split())\n",
        "\n",
        "beads = [i for i in range(1, N + 1)]\n",
        "\n",
        "level = 0\n",
        "output = [0] * M\n",
        "count = []\n",
        "def dfs(l):\n",
        "    if l == M:\n",
        "        print(*output)\n",
        "        count.append(0)\n",
        "        return\n",
        "    for i in beads:\n",
        "        output[l] = i\n",
        "        dfs(l + 1)\n",
        "dfs(level)\n",
        "print(len(count))"
      ],
      "metadata": {
        "id": "e5kmziwbCYrl"
      },
      "execution_count": null,
      "outputs": []
    },
    {
      "cell_type": "markdown",
      "source": [
        "7 모르겠드아"
      ],
      "metadata": {
        "id": "_KPLCPh7CaJU"
      }
    },
    {
      "cell_type": "code",
      "source": [
        "# <first try>\n",
        "# N = int(input())\n",
        "# coins = list(map(int, input().split()))\n",
        "# M = int(input())\n",
        "# \n",
        "# coins.sort(reverse=True)\n",
        "# level = 0\n",
        "# count = []\n",
        "# def dfs(M, l): <-dfs가 아니라 greedy로 풀어서 틀림\n",
        "#     if l == len(coins):\n",
        "#         print(sum(count))\n",
        "#         return\n",
        "#     count.append(M // coins[l])\n",
        "#     dfs(M % coins[l], l + 1)\n",
        "# dfs(M, level)\n",
        "\n",
        "\n",
        "#<second try>\n",
        "# N = int(input())\n",
        "# coins = list(map(int, input().split()))\n",
        "# M = int(input())\n",
        "#\n",
        "# coins.sort(reverse=True)\n",
        "# level = 0\n",
        "# count = []\n",
        "# countList = []\n",
        "# def dfs(M, l):\n",
        "#     print(l)\n",
        "#     if l == len(coins):\n",
        "#         if M == 0:\n",
        "#             countList.append(sum(count))\n",
        "#         count.clear()\n",
        "#         return\n",
        "#     dfs(M, l + 1)\n",
        "#     count.append(M // coins[l])\n",
        "#     dfs(M % coins[l], l + 1)\n",
        "# dfs(M, level)\n",
        "# print(countList)\n",
        "\n",
        "N = int(input())\n",
        "coins = list(map(int, input().split()))\n",
        "M = int(input())\n",
        "\n",
        "coins.sort(reverse=True)\n",
        "level = 0\n",
        "count = []\n",
        "countList = []\n",
        "def dfs(M, l):\n",
        "    if M == 0:\n",
        "        countList.append(sum(count))\n",
        "        return\n",
        "    if l == len(coins):\n",
        "        return\n",
        "    count.append(M // coins[l])\n",
        "    dfs(M % coins[l], l + 1)\n",
        "    count.pop()\n",
        "    dfs(M, l + 1)\n",
        "dfs(M, level)\n",
        "print(min(countList))"
      ],
      "metadata": {
        "id": "3U5aA1HvXuLR"
      },
      "execution_count": null,
      "outputs": []
    },
    {
      "cell_type": "markdown",
      "source": [
        "8"
      ],
      "metadata": {
        "id": "Zg6p3xhOEl5x"
      }
    },
    {
      "cell_type": "code",
      "source": [
        "N, M = map(int, input().split())\n",
        "\n",
        "beads = [i for i in range(1, N + 1)]\n",
        "\n",
        "level = 0\n",
        "output = [0] * M\n",
        "count = []\n",
        "def dfs(l, b):\n",
        "    if l == M:\n",
        "        print(*output)\n",
        "        count.append(0)\n",
        "        return\n",
        "    for i in range(len(b)):\n",
        "        output[l] = b[i]\n",
        "        temp = b.pop(i)\n",
        "        dfs(l + 1, b)\n",
        "        b.append(temp)\n",
        "        b.sort()\n",
        "dfs(level, beads)\n",
        "print(len(count))"
      ],
      "metadata": {
        "id": "WXeKbXTsEmg5"
      },
      "execution_count": null,
      "outputs": []
    },
    {
      "cell_type": "markdown",
      "source": [
        "9"
      ],
      "metadata": {
        "id": "7lQrjSM-Engx"
      }
    },
    {
      "cell_type": "code",
      "source": [
        "def pascal(x):\n",
        "    if len(x) == 1:\n",
        "        return x[0]\n",
        "    new_x = []\n",
        "    for i in range(len(x) - 1):\n",
        "        new_x.append(x[i] + x[i + 1])\n",
        "    return pascal(new_x)\n",
        "\n",
        "N, F = map(int, input().split())\n",
        "\n",
        "data = [i for i in range(1, N + 1)]\n",
        "\n",
        "level = 0\n",
        "inputlist = [0] * N\n",
        "def dfs(l, d):\n",
        "    if l == len(data):\n",
        "        if pascal(inputlist) == F:\n",
        "            print(*inputlist)\n",
        "            exit(0)\n",
        "        return\n",
        "    for i in range(len(d)):\n",
        "        inputlist[l] = d[i]\n",
        "        dfs(l + 1, list(filter(lambda x : x != d[i], d)))\n",
        "\n",
        "dfs(level, data)"
      ],
      "metadata": {
        "id": "Rmc-Dg5pdDS2"
      },
      "execution_count": null,
      "outputs": []
    },
    {
      "cell_type": "markdown",
      "source": [
        "10"
      ],
      "metadata": {
        "id": "un2rY0efdDud"
      }
    },
    {
      "cell_type": "code",
      "source": [
        "N, M = map(int, input().split())\n",
        "\n",
        "beads = [i for i in range(1, N + 1)]\n",
        "\n",
        "level = 0\n",
        "output = [0] * M\n",
        "count = []\n",
        "def dfs(l, b):\n",
        "    if l == M:\n",
        "        print(*output)\n",
        "        count.append(0)\n",
        "        return\n",
        "    for i in range(len(b)):\n",
        "        output[l] = b[i]\n",
        "        dfs(l + 1, b[i+1:])\n",
        "dfs(level, beads)\n",
        "print(len(count))"
      ],
      "metadata": {
        "id": "lIDaYnq8dEz9"
      },
      "execution_count": null,
      "outputs": []
    },
    {
      "cell_type": "markdown",
      "source": [
        "11"
      ],
      "metadata": {
        "id": "p0tXkbq0fs6P"
      }
    },
    {
      "cell_type": "code",
      "source": [
        "N, K = map(int, input().split())\n",
        "nums = list(map(int, input().split()))\n",
        "nums = [[0, i] for i in nums]\n",
        "M = int(input())\n",
        "\n",
        "level = 0\n",
        "index = 0\n",
        "cnt = []\n",
        "def dfs(l, ind):\n",
        "    if ind == K:\n",
        "        filt = list(filter(lambda x: x[0] == 1, nums))\n",
        "        filt = [i[1] for i in filt]\n",
        "        s = sum(filt)\n",
        "        if s != 0 and s % M == 0:\n",
        "          cnt.append(0)\n",
        "        return\n",
        "    if l == len(nums):\n",
        "        return\n",
        "    nums[l][0] = 1\n",
        "    ind += 1\n",
        "    dfs(l + 1, ind)\n",
        "    nums[l][0] = 0\n",
        "    ind += -1\n",
        "    dfs(l + 1, ind)\n",
        "dfs(level, index)\n",
        "print(len(cnt))"
      ],
      "metadata": {
        "id": "gDDFf0KWfsrP"
      },
      "execution_count": null,
      "outputs": []
    },
    {
      "cell_type": "markdown",
      "source": [
        "12"
      ],
      "metadata": {
        "id": "ZtPjyiJoQNEV"
      }
    },
    {
      "cell_type": "code",
      "source": [
        "N, M = map(int, input().split())\n",
        "data = []\n",
        "for i in range(M):\n",
        "    data.append(list(map(int, input().split())))\n",
        "\n",
        "output = [[0] * N for _ in range(N)]\n",
        "for i in range(M):\n",
        "    output[data[i][0] - 1][data[i][1] - 1] = data[i][2]\n",
        "\n",
        "for i in range(N):\n",
        "    print(*output[i])"
      ],
      "metadata": {
        "id": "b9tBlBvEQOW9"
      },
      "execution_count": null,
      "outputs": []
    },
    {
      "cell_type": "markdown",
      "source": [
        "13"
      ],
      "metadata": {
        "id": "mdzKUgIwb_mo"
      }
    },
    {
      "cell_type": "code",
      "source": [
        "N, M = map(int, input().split())\n",
        "data = [[0] * N for _ in range(N)]\n",
        "checkList = [0] * N\n",
        "for i in range(M):\n",
        "    temp = list(map(int, input().split()))\n",
        "    data[temp[0] - 1][temp[1] - 1] = 1\n",
        "checkList[0] = 1\n",
        "\n",
        "level = 1\n",
        "cnt = []\n",
        "def dfs(l, ind):\n",
        "    if ind == N - 1:\n",
        "        cnt.append(0)\n",
        "        return\n",
        "    for i in range(N):\n",
        "        if data[ind][i] == 1 and checkList[i] == 0:\n",
        "            checkList[i] == 1\n",
        "            dfs(l + 1, i)\n",
        "            checkList[i] == 0\n",
        "dfs(level, 0)\n",
        "print(len(cnt))"
      ],
      "metadata": {
        "id": "Mr2l-DF2cAc4"
      },
      "execution_count": null,
      "outputs": []
    }
  ]
}