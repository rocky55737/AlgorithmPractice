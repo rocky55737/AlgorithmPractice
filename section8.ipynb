{
  "nbformat": 4,
  "nbformat_minor": 0,
  "metadata": {
    "colab": {
      "name": "section8.ipynb",
      "provenance": [],
      "authorship_tag": "ABX9TyOTuLUOmRnOMFrmTCEyR7Wz",
      "include_colab_link": true
    },
    "kernelspec": {
      "name": "python3",
      "display_name": "Python 3"
    },
    "language_info": {
      "name": "python"
    }
  },
  "cells": [
    {
      "cell_type": "markdown",
      "metadata": {
        "id": "view-in-github",
        "colab_type": "text"
      },
      "source": [
        "<a href=\"https://colab.research.google.com/github/rocky55737/AlgorithmPractice/blob/main/section8.ipynb\" target=\"_parent\"><img src=\"https://colab.research.google.com/assets/colab-badge.svg\" alt=\"Open In Colab\"/></a>"
      ]
    },
    {
      "cell_type": "markdown",
      "source": [
        "1 선자르기"
      ],
      "metadata": {
        "id": "bXlZCOGtD1Ue"
      }
    },
    {
      "cell_type": "code",
      "execution_count": null,
      "metadata": {
        "colab": {
          "base_uri": "https://localhost:8080/"
        },
        "id": "sVKzEdilDh5d",
        "outputId": "06559300-3722-4394-b8e4-9c9df1801294"
      },
      "outputs": [
        {
          "output_type": "stream",
          "name": "stdout",
          "text": [
            "7\n",
            "21\n"
          ]
        }
      ],
      "source": [
        "# 같은 것이 있는 순열을 반복문 완전탐색\n",
        "# 틀림\n",
        "# N = int(input())\n",
        "# limit = N // 2\n",
        "# for i in range(limit + 1):\n",
        "#   if i != 0 and N - 2 * i != 0:\n",
        "\n",
        "# Bottom up\n",
        "# N = int(input())\n",
        "# results = [0] * N\n",
        "# results[0] = 1\n",
        "# results[1] = 2\n",
        "# for i in range(2, N):\n",
        "#   results[i] = results[i - 1] + results[i - 2]\n",
        "# print(results[N - 1])\n",
        "\n",
        "# Top Down\n",
        "N = int(input())\n",
        "results = [0] * N\n",
        "results[0] = 1\n",
        "results[1] = 2\n",
        "\n",
        "def recur(n):\n",
        "  if results[n] != 0:\n",
        "    return results[n]\n",
        "  return recur(n - 1) + recur(n - 2)\n",
        "print(recur(N - 1))"
      ]
    },
    {
      "cell_type": "markdown",
      "source": [
        "2 최대 부분 증가수열 모르겠다"
      ],
      "metadata": {
        "id": "ESAFYmG5D4DW"
      }
    },
    {
      "cell_type": "code",
      "source": [
        "N = int(input())\n",
        "data = list(map(int, input().split()))\n",
        "lendata = [1]\n",
        "\n",
        "for i in range(1, N):\n",
        "    mx = 1\n",
        "    for j in range(0, i):\n",
        "        if data[j] < data[i] and mx < lendata[j] + 1:\n",
        "            mx = lendata[j] + 1\n",
        "    lendata.append(mx)\n",
        "print(max(lendata))"
      ],
      "metadata": {
        "id": "e0dHTmElD3oW"
      },
      "execution_count": null,
      "outputs": []
    },
    {
      "cell_type": "markdown",
      "source": [
        "3 최대 선 연결하기"
      ],
      "metadata": {
        "id": "zo6pNhUqD6tu"
      }
    },
    {
      "cell_type": "code",
      "source": [
        "# 위와 동일 문제\n",
        "N = int(input())\n",
        "data = list(map(int, input().split()))\n",
        "lendata = [1]\n",
        "\n",
        "for i in range(1, N):\n",
        "    mx = 1\n",
        "    for j in range(0, i):\n",
        "        if data[j] < data[i] and mx < lendata[j] + 1:\n",
        "            mx = lendata[j] + 1\n",
        "    lendata.append(mx)\n",
        "print(max(lendata))"
      ],
      "metadata": {
        "id": "-d6nyAtoD4dN"
      },
      "execution_count": null,
      "outputs": []
    },
    {
      "cell_type": "markdown",
      "source": [
        "4 가장 높은 탑 쌓기"
      ],
      "metadata": {
        "id": "vWxpfPBSD42V"
      }
    },
    {
      "cell_type": "code",
      "source": [
        "N = int(input())\n",
        "bricks = []\n",
        "for _ in range(N):\n",
        "    bricks.append(list(map(int, input().split())))\n",
        "bricks.sort(key=lambda x: (x[0], x[2]))\n",
        "lendata = [bricks[0][1]]\n",
        "\n",
        "for i in range(1, N):\n",
        "    sm = bricks[i][1]\n",
        "    for j in range(i - 1, -1, -1):\n",
        "        if bricks[j][2] < bricks[i][2]:\n",
        "            sm += bricks[j][1]\n",
        "    lendata.append(sm)\n",
        "print(max(lendata))"
      ],
      "metadata": {
        "id": "0NNfL9yvETfF"
      },
      "execution_count": null,
      "outputs": []
    },
    {
      "cell_type": "markdown",
      "source": [
        "5 알리바바와 40인의 도둑"
      ],
      "metadata": {
        "id": "22LFaQpsET9Q"
      }
    },
    {
      "cell_type": "code",
      "source": [
        "N = int(input())\n",
        "dol = []\n",
        "for _ in range(N):\n",
        "    dol.append(list(map(int, input().split())))\n",
        "energy = [[0 for _ in range(N + 1)] for _ in range(N + 1)]\n",
        "\n",
        "for i in range(N):\n",
        "    for j in range(N):\n",
        "        if i == j == 0:\n",
        "             energy[i + 1][j + 1] = dol[i][j]\n",
        "        elif j != 0 and i == 0:\n",
        "            energy[i + 1][j + 1] = dol[i][j] + energy[i + 1][j]\n",
        "        elif i != 0 and j == 0:\n",
        "            energy[i + 1][j + 1] = dol[i][j] + energy[i][j + 1]\n",
        "        else:\n",
        "            energy[i + 1][j + 1] = dol[i][j] + (energy[i + 1][j] if energy[i + 1][j] < energy[i][j + 1] else energy[i][j + 1])\n",
        "print(energy[N][N])"
      ],
      "metadata": {
        "id": "rVNwPDEUEWiw"
      },
      "execution_count": null,
      "outputs": []
    },
    {
      "cell_type": "markdown",
      "source": [
        "6 가방문제(냅색 알고리즘)"
      ],
      "metadata": {
        "id": "pxOZb9ehEYq4"
      }
    },
    {
      "cell_type": "code",
      "source": [
        "N, weight_limit = map(int, input().split())\n",
        "jewel = []\n",
        "for _ in range(N):\n",
        "    jewel.append(list(map(int, input().split())))\n",
        "value_list = [0] * weight_limit\n",
        "\n",
        "for i in range(N):\n",
        "    for w in range(jewel[i][0] - 1, weight_limit):\n",
        "        if w - jewel[i][0] > 0:\n",
        "            value_list[w] = max(value_list[w], jewel[i][1] + value_list[w - jewel[i][0]])\n",
        "        else:\n",
        "            value_list[w] = max(value_list[w], jewel[i][1])\n",
        "print(max(value_list))"
      ],
      "metadata": {
        "id": "N5iYpAh8Egih"
      },
      "execution_count": null,
      "outputs": []
    },
    {
      "cell_type": "markdown",
      "source": [
        "7 동전교환"
      ],
      "metadata": {
        "id": "LlQ_bGRCbMyG"
      }
    },
    {
      "cell_type": "code",
      "source": [
        "N = int(input())\n",
        "coins = list(map(int, input().split()))\n",
        "M = int(input())\n",
        "\n",
        "coins.sort()\n",
        "countList = [1000] * M\n",
        "\n",
        "for i in coins:\n",
        "    for j in range(i - 1, M):\n",
        "        if (j + 1) % i != 0:\n",
        "            countList[j] = min(countList[j], (j + 1) // i + countList[(j + 1) % i])\n",
        "        else:\n",
        "            countList[j] = min(countList[j], (j + 1) // i)\n",
        "print(countList[M - 1])"
      ],
      "metadata": {
        "id": "Om5NphUobMfn"
      },
      "execution_count": null,
      "outputs": []
    },
    {
      "cell_type": "markdown",
      "source": [
        "8 최대점수 구하기(냅색)"
      ],
      "metadata": {
        "id": "DShKNVwWbNJu"
      }
    },
    {
      "cell_type": "code",
      "source": [
        "N, M = map(int, input().split())\n",
        "prob = [list(map(int, input().split())) for _ in range(N)]\n",
        "score = [0] * M\n",
        "\n",
        "prob.sort(key=lambda x : (x[1]))\n",
        "for i in prob:\n",
        "    for j in range(i[1] - 1, M):\n",
        "        if (j + 1) == 2 * i[1]:\n",
        "            break\n",
        "        score[j] = max(score[j], score[j - i[1]] + i[0])\n",
        "print(score[M - 1])"
      ],
      "metadata": {
        "id": "ZfBiMcLCbNlu"
      },
      "execution_count": null,
      "outputs": []
    },
    {
      "cell_type": "markdown",
      "source": [
        "9 플로이드 워샬 알고리즘"
      ],
      "metadata": {
        "id": "q20Bz0qObW0n"
      }
    },
    {
      "cell_type": "code",
      "source": [
        ""
      ],
      "metadata": {
        "id": "5U6g1v7zbWcv"
      },
      "execution_count": null,
      "outputs": []
    },
    {
      "cell_type": "markdown",
      "source": [
        "10 회장뽑기"
      ],
      "metadata": {
        "id": "-8E9BvydbasH"
      }
    },
    {
      "cell_type": "code",
      "source": [
        ""
      ],
      "metadata": {
        "id": "xkUIHIkFbaVZ"
      },
      "execution_count": null,
      "outputs": []
    }
  ]
}