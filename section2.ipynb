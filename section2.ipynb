{
  "nbformat": 4,
  "nbformat_minor": 0,
  "metadata": {
    "colab": {
      "name": "section2.ipynb",
      "provenance": [],
      "collapsed_sections": [],
      "authorship_tag": "ABX9TyNmOKJUhim+5RRQQjBthef3",
      "include_colab_link": true
    },
    "kernelspec": {
      "name": "python3",
      "display_name": "Python 3"
    },
    "language_info": {
      "name": "python"
    }
  },
  "cells": [
    {
      "cell_type": "markdown",
      "metadata": {
        "id": "view-in-github",
        "colab_type": "text"
      },
      "source": [
        "<a href=\"https://colab.research.google.com/github/rocky55737/AlgorithmPractice/blob/main/section2.ipynb\" target=\"_parent\"><img src=\"https://colab.research.google.com/assets/colab-badge.svg\" alt=\"Open In Colab\"/></a>"
      ]
    },
    {
      "cell_type": "markdown",
      "source": [
        "4번 문제"
      ],
      "metadata": {
        "id": "5NAd0ZY7-iDS"
      }
    },
    {
      "cell_type": "code",
      "execution_count": null,
      "metadata": {
        "id": "rzsVo2DVlRjv",
        "colab": {
          "base_uri": "https://localhost:8080/"
        },
        "outputId": "4b373092-3d0c-40f8-9825-e22822b11c8a"
      },
      "outputs": [
        {
          "output_type": "stream",
          "name": "stdout",
          "text": [
            "10\n",
            "45 73 66 87 92 67 75 79 75 80\n",
            "74   7\n"
          ]
        }
      ],
      "source": [
        "import math\n",
        "N = int(input())\n",
        "\n",
        "if (N < 5 or N > 100):\n",
        "  exit()\n",
        "data = input().split()\n",
        "sum = 0\n",
        "for i in data:\n",
        "  sum += int(i)\n",
        "aver = round(sum / N)\n",
        "index = 0\n",
        "for i in range(1, N):\n",
        "  if(abs(aver - int(data[index])) > abs(aver - int(data[i])) or (abs(aver - int(data[index])) == abs(aver - int(data[i])) and data[index] < data[i])):\n",
        "    index = i\n",
        "print(aver, \" \", index + 1)"
      ]
    },
    {
      "cell_type": "markdown",
      "source": [
        "5번 문제"
      ],
      "metadata": {
        "id": "a4rWZCUH-o0D"
      }
    },
    {
      "cell_type": "code",
      "source": [
        "dice = [4, 6, 8, 12, 20]\n",
        "\n",
        "N, M = input().split()\n",
        "if ~((N in dice) and (M in dice)):\n",
        "  exit()\n",
        "data = []\n",
        "for i in range(1, int(N) + 1):\n",
        "  for j in range(1, int(M) + 1):\n",
        "    data.append(i + j)\n",
        "max_cnt = 0\n",
        "for i in data:\n",
        "  cnt = 0\n",
        "  for j in data:\n",
        "    if i == j:\n",
        "      cnt+=1\n",
        "    if cnt > max_cnt:\n",
        "      max_cnt = cnt\n",
        "for i in data:\n",
        "  cnt = 0\n",
        "  for j in data:\n",
        "    if i == j:\n",
        "      cnt+=1\n",
        "  if cnt == max_cnt:\n",
        "    print(i)\n",
        "    data = list(filter(lambda x : x != i, data))"
      ],
      "metadata": {
        "colab": {
          "base_uri": "https://localhost:8080/"
        },
        "id": "RZYMigqc-oga",
        "outputId": "a3369c43-793a-4165-9398-6059e5dca807"
      },
      "execution_count": null,
      "outputs": [
        {
          "output_type": "stream",
          "name": "stdout",
          "text": [
            "12 6\n",
            "7\n",
            "8\n",
            "9\n",
            "10\n",
            "11\n",
            "12\n",
            "13\n"
          ]
        }
      ]
    },
    {
      "cell_type": "markdown",
      "source": [
        "6번 문제"
      ],
      "metadata": {
        "id": "WftunQcWLpOV"
      }
    },
    {
      "cell_type": "code",
      "source": [
        "def digit_sum(x):\n",
        "  sum = 0\n",
        "  n = int(x)\n",
        "  while n > 0 :\n",
        "    sum += n % 10\n",
        "    n /=  10\n",
        "  return sum\n",
        "\n",
        "N = input()\n",
        "if int(N) < 3 or int(N) > 100:\n",
        "  exit()\n",
        "data = list(input().split())\n",
        "max = 0\n",
        "index = 0\n",
        "for i in range(0, int(N)):\n",
        "  if digit_sum(data[i]) > max:\n",
        "    max = digit_sum(data[i])\n",
        "    index = i\n",
        "print(data[i])"
      ],
      "metadata": {
        "colab": {
          "base_uri": "https://localhost:8080/"
        },
        "id": "JjLumVuBLuZd",
        "outputId": "ae96f02f-bdfc-42dc-c892-4e526e46bcc6"
      },
      "execution_count": null,
      "outputs": [
        {
          "output_type": "stream",
          "name": "stdout",
          "text": [
            "3\n",
            "125 15232 97\n",
            "97\n"
          ]
        }
      ]
    },
    {
      "cell_type": "markdown",
      "source": [
        "7번문제"
      ],
      "metadata": {
        "id": "F9B4KAsmWkvZ"
      }
    },
    {
      "cell_type": "code",
      "source": [
        "N = int(input())\n",
        "\n",
        "if N < 2 or N > 200000:\n",
        "  exit()\n",
        "all = list(range(2, N + 1))\n",
        "cnt = 0\n",
        "for i in range(2, N + 1):\n",
        "  if i in all:\n",
        "    cnt += 1\n",
        "  all = list(filter(lambda x : x % i != 0, all))\n",
        "print(cnt)"
      ],
      "metadata": {
        "colab": {
          "base_uri": "https://localhost:8080/"
        },
        "id": "d63ed-dQWnK4",
        "outputId": "9e9c63c9-086e-4c98-e601-2202a6be03ca"
      },
      "execution_count": null,
      "outputs": [
        {
          "output_type": "stream",
          "name": "stdout",
          "text": [
            "5\n",
            "3\n"
          ]
        }
      ]
    },
    {
      "cell_type": "markdown",
      "source": [
        "8번 문제"
      ],
      "metadata": {
        "id": "ZTbtcuNVgTmk"
      }
    },
    {
      "cell_type": "code",
      "source": [
        "def reverse(x):\n",
        "  num = int(x)\n",
        "  num_str_rev = str(num)[::-1]\n",
        "  return int(num_str_rev)\n",
        "\n",
        "def isPrime(x):\n",
        "  num = int(x)\n",
        "  for i in range(2, int(num ** 0.5) + 1):\n",
        "    if num % i == 0:\n",
        "      return False\n",
        "  return True\n",
        "\n",
        "N = int(input())\n",
        "if N < 3 or N > 100:\n",
        "  exit()\n",
        "nums = input().split()\n",
        "for i in range(0, N):\n",
        "  if isPrime(reverse(nums[i])):\n",
        "    print(reverse(nums[i]), end = ' ')\n"
      ],
      "metadata": {
        "colab": {
          "base_uri": "https://localhost:8080/"
        },
        "id": "ECfICKwPgXwd",
        "outputId": "dc68853c-ff2c-43da-a263-135c7b33fb6f"
      },
      "execution_count": null,
      "outputs": [
        {
          "output_type": "stream",
          "name": "stdout",
          "text": [
            "5\n",
            "32 55 62 3700 250\n",
            "23 73 "
          ]
        }
      ]
    },
    {
      "cell_type": "markdown",
      "source": [
        "9번 문제"
      ],
      "metadata": {
        "id": "VsmSKaLRlbj4"
      }
    },
    {
      "cell_type": "code",
      "source": [
        "def findCaseValue(x):\n",
        "  mx_cnt = 0\n",
        "  value = 0\n",
        "  for i in range(1, 7):\n",
        "    if mx_cnt < x.count(str(i)):\n",
        "      mx_cnt = x.count(str(i))\n",
        "      value = i\n",
        "  ret = [mx_cnt, value]\n",
        "  return ret\n",
        "\n",
        "N = int(input())\n",
        "\n",
        "if N < 2 or N > 1000:\n",
        "  exit()\n",
        "data = []\n",
        "mx_prize = 0\n",
        "prize = 0\n",
        "for c in range(0, N):\n",
        "  data = input().split()\n",
        "  if len(data) != 3:\n",
        "    exit()\n",
        "  if findCaseValue(data)[0] == 3:\n",
        "    prize = 10000 + findCaseValue(data)[1] * 100\n",
        "  elif findCaseValue(data)[0] == 2:\n",
        "    prize = 1000 + findCaseValue(data)[1] * 100\n",
        "  else :\n",
        "    prize = findCaseValue(data)[1] * 100\n",
        "  if prize > mx_prize:\n",
        "    mx_prize = prize\n",
        "print(mx_prize)"
      ],
      "metadata": {
        "id": "PS-jzAq9CIOl"
      },
      "execution_count": null,
      "outputs": []
    },
    {
      "cell_type": "markdown",
      "source": [
        "10번 문제"
      ],
      "metadata": {
        "id": "NlMTzEXqDQFs"
      }
    },
    {
      "cell_type": "code",
      "source": [
        "def grading(x):\n",
        "  ret = {}\n",
        "  for i in range(0, len(x)):\n",
        "    if int(x[i]) == 1:\n",
        "      try:\n",
        "        ret[i] = ret[i - 1] + 1\n",
        "      except:\n",
        "        ret[i] = 1\n",
        "    else:\n",
        "      ret[i] = 0\n",
        "  return ret\n",
        "\n",
        "N = int(input())\n",
        "if N < 1 or N > 100:\n",
        "  exit()\n",
        "data = input().split()\n",
        "if len(data) != N or data.count(\"1\") + data.count(\"0\") != N:\n",
        "  exit()\n",
        "score = []\n",
        "score = grading(data).values()\n",
        "sum = 0\n",
        "for i in score:\n",
        "  sum += int(i)\n",
        "print(sum)"
      ],
      "metadata": {
        "id": "PoNUyCmODTHT"
      },
      "execution_count": null,
      "outputs": []
    }
  ]
}