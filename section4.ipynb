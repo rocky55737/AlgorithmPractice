{
  "nbformat": 4,
  "nbformat_minor": 0,
  "metadata": {
    "colab": {
      "name": "section4.ipynb",
      "provenance": [],
      "collapsed_sections": [],
      "authorship_tag": "ABX9TyNucneErHynjHl/izKrxDXE",
      "include_colab_link": true
    },
    "kernelspec": {
      "name": "python3",
      "display_name": "Python 3"
    },
    "language_info": {
      "name": "python"
    }
  },
  "cells": [
    {
      "cell_type": "markdown",
      "metadata": {
        "id": "view-in-github",
        "colab_type": "text"
      },
      "source": [
        "<a href=\"https://colab.research.google.com/github/rocky55737/AlgorithmPractice/blob/main/section4.ipynb\" target=\"_parent\"><img src=\"https://colab.research.google.com/assets/colab-badge.svg\" alt=\"Open In Colab\"/></a>"
      ]
    },
    {
      "cell_type": "markdown",
      "source": [
        "1"
      ],
      "metadata": {
        "id": "pJTKJIKO8n2W"
      }
    },
    {
      "cell_type": "code",
      "execution_count": null,
      "metadata": {
        "id": "arzf5GKK0gP1"
      },
      "outputs": [],
      "source": [
        "import math\n",
        "\n",
        "N, M = map(int,input().split())\n",
        "data = list(map(int, input().split()))\n",
        "data.sort()\n",
        "max = int(len(data) - 1)\n",
        "min = 0\n",
        "while min <= max:\n",
        "  mid = int(round((max + min) / 2))\n",
        "  if data[mid] < M:\n",
        "    min = mid + 1\n",
        "  elif data[mid] > M:\n",
        "    max = mid - 1\n",
        "  else :\n",
        "    print(mid + 1)\n",
        "    exit()\n",
        "print('out of index')"
      ]
    },
    {
      "cell_type": "markdown",
      "source": [
        "2"
      ],
      "metadata": {
        "id": "aOkH02LL9WHr"
      }
    },
    {
      "cell_type": "code",
      "source": [
        "K, N = map(int, input().split())\n",
        "data = []\n",
        "for i in range(0, K):\n",
        "  data.append(int(input()))\n",
        "data.sort(reverse=True)\n",
        "len = data[0]\n",
        "num = 0\n",
        "while (num != N) and (len != 1):\n",
        "  num = 0\n",
        "  len = len - 1\n",
        "  for i in data:\n",
        "    num += int(i / len)\n",
        "  print(num)\n",
        "print(len)"
      ],
      "metadata": {
        "id": "qzuOQ6dX9W4b"
      },
      "execution_count": null,
      "outputs": []
    },
    {
      "cell_type": "markdown",
      "source": [
        "3"
      ],
      "metadata": {
        "id": "TewVoLw6SQwp"
      }
    },
    {
      "cell_type": "code",
      "source": [
        "N, M = map(int, input().split())\n",
        "data = list(map(int, input().split()))\n",
        "l = sum(data)\n",
        "count = 0\n",
        "s = 0\n",
        "while count <= M:\n",
        "  count = 1\n",
        "  s = 0\n",
        "  for i in range(0, len(data)):\n",
        "    if s + data[i] > l:\n",
        "      s = 0\n",
        "      count = count + 1\n",
        "    s += data[i]\n",
        "  l -= 1\n",
        "print(l + 2)"
      ],
      "metadata": {
        "id": "7q_37PwzSRux"
      },
      "execution_count": null,
      "outputs": []
    },
    {
      "cell_type": "markdown",
      "source": [
        "4"
      ],
      "metadata": {
        "id": "SUpJMGl1_It4"
      }
    },
    {
      "cell_type": "code",
      "source": [
        "N, C = map(int, input().split())\n",
        "data = []\n",
        "for i in range(0, N):\n",
        "  data.append(int(input()))\n",
        "data.sort()\n",
        "start = data[0]\n",
        "end = data[-1]\n",
        "while start <= end:\n",
        "  mid = (start + end) // 2\n",
        "  point = 0\n",
        "  cnt = 1\n",
        "  for i in range(1, N):\n",
        "    if data[i] - data[point] >= mid:\n",
        "      cnt += 1\n",
        "      point = i\n",
        "  if cnt < C:\n",
        "    end = mid - 1\n",
        "  else :\n",
        "    start = mid + 1\n",
        "mid = (start + end) // 2\n",
        "print(mid)"
      ],
      "metadata": {
        "id": "TVzkbu-__JWX",
        "colab": {
          "base_uri": "https://localhost:8080/"
        },
        "outputId": "2a313ddb-afc0-43d1-e2da-e5a2fd387c3b"
      },
      "execution_count": null,
      "outputs": [
        {
          "output_type": "stream",
          "name": "stdout",
          "text": [
            "3 2\n",
            "1\n",
            "5\n",
            "9\n",
            "8\n"
          ]
        }
      ]
    },
    {
      "cell_type": "markdown",
      "source": [
        "5"
      ],
      "metadata": {
        "id": "nl_pRgUykdSR"
      }
    },
    {
      "cell_type": "code",
      "source": [
        "n = int(input())\n",
        "data = []\n",
        "for i in range(n):\n",
        "    data.append(list(map(int, input().split())))\n",
        "data.sort(key=lambda x: (x[1], x[0]))\n",
        "end = data[0][1]\n",
        "cnt = 1\n",
        "for i in data:\n",
        "  if i[0] >= end:\n",
        "    end = i[1]\n",
        "    cnt += 1\n",
        "print(cnt)"
      ],
      "metadata": {
        "id": "Ik7KzR0Wkcs5"
      },
      "execution_count": null,
      "outputs": []
    },
    {
      "cell_type": "markdown",
      "source": [
        "6"
      ],
      "metadata": {
        "id": "eUokaFazg_v9"
      }
    },
    {
      "cell_type": "code",
      "source": [
        "n = int(input())\n",
        "data = []\n",
        "for i in range(n):\n",
        "    data.append(list(map(int, input().split())))\n",
        "data.sort(key=lambda x: (-x[0], x[1]))\n",
        "Max = data[0][1]\n",
        "cnt = 1\n",
        "for i in data:\n",
        "  if i[1] > Max:\n",
        "    Max = i[1]\n",
        "    cnt += 1\n",
        "print(cnt)"
      ],
      "metadata": {
        "id": "H6xG6o4-hAj8"
      },
      "execution_count": null,
      "outputs": []
    },
    {
      "cell_type": "markdown",
      "source": [
        "7"
      ],
      "metadata": {
        "id": "UmNb_jk8ipqP"
      }
    },
    {
      "cell_type": "code",
      "source": [
        "L = int(input())\n",
        "data = list(map(int, input().split()))\n",
        "data.sort()\n",
        "M = int(input())\n",
        "for i in range(M):\n",
        "  if data[-1] > data[0]:\n",
        "    data[-1] -= 1\n",
        "    data[0] += 1\n",
        "  data.sort()\n",
        "print(abs(data[-1] - data[0]))"
      ],
      "metadata": {
        "id": "X4Nj7GYyipHv"
      },
      "execution_count": null,
      "outputs": []
    },
    {
      "cell_type": "markdown",
      "source": [
        "8"
      ],
      "metadata": {
        "id": "N32aSJB2mLMQ"
      }
    },
    {
      "cell_type": "code",
      "source": [
        "N, M = map(int, input().split())\n",
        "saram = list(map(int, input().split()))\n",
        "saram.sort()\n",
        "cnt = 0\n",
        "while len(saram) != 0:\n",
        "  if len(saram) == 1:\n",
        "    saram.pop(0)\n",
        "    cnt += 1\n",
        "  elif saram[0] + saram[-1] > M:\n",
        "    saram.pop(-1)\n",
        "    cnt += 1\n",
        "  else:\n",
        "    saram.pop(0)\n",
        "    saram.pop(-1)\n",
        "    cnt += 1\n",
        "print(cnt)"
      ],
      "metadata": {
        "id": "TnqnmzXEmL24"
      },
      "execution_count": null,
      "outputs": []
    },
    {
      "cell_type": "markdown",
      "source": [
        "9"
      ],
      "metadata": {
        "id": "b6_U91JqpE-0"
      }
    },
    {
      "cell_type": "code",
      "source": [
        "N = int(input())\n",
        "data = list(map(int, input().split()))\n",
        "cnt = 1\n",
        "output = []\n",
        "output.append('L')\n",
        "now = data.pop(0)\n",
        "for i in range(N):\n",
        "  if now < data[0] and now < data[-1]:\n",
        "    if data[0] > data[-1]:\n",
        "      output.append('R')\n",
        "      now = data.pop(-1)\n",
        "    else:\n",
        "      output.append('L')\n",
        "      now = data.pop(0)\n",
        "  elif now < data[0]:\n",
        "    output.append('L')\n",
        "    now = data.pop(0)\n",
        "  elif now < data[-1]:\n",
        "    output.append('R')\n",
        "    now = data.pop(-1)\n",
        "  else:\n",
        "    break\n",
        "  cnt += 1\n",
        "print(cnt)\n",
        "print(*output)"
      ],
      "metadata": {
        "id": "XEw_MgD9pEZ0"
      },
      "execution_count": null,
      "outputs": []
    },
    {
      "cell_type": "markdown",
      "source": [
        "10"
      ],
      "metadata": {
        "id": "QJcyUNTO4jGv"
      }
    },
    {
      "cell_type": "code",
      "source": [
        "N = int(input())\n",
        "arr = []\n",
        "for i in range(N):\n",
        "  arr.append(0)\n",
        "\n",
        "data = list(map(int, input().split()))\n",
        "for i in range(N):\n",
        "  cnt = 0\n",
        "  for j in range(N):\n",
        "    if cnt == data[i] and arr[j] == 0:\n",
        "      arr[j] = i + 1\n",
        "      break\n",
        "    if arr[j] == 0:\n",
        "      cnt += 1\n",
        "print(*arr)"
      ],
      "metadata": {
        "id": "otLzPx114it_"
      },
      "execution_count": null,
      "outputs": []
    }
  ]
}